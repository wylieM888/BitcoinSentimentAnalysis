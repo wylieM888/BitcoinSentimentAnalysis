{
 "cells": [
  {
   "cell_type": "code",
   "execution_count": 11,
   "id": "ef581a23-18c4-49d6-83aa-6aa377edcfda",
   "metadata": {},
   "outputs": [],
   "source": [
    "#### Part 2. Reddit Data Collection ####\n",
    "# https://medium.com/swlh/how-to-scrape-large-amounts-of-reddit-data-using-pushshift-1d33bde9286\n",
    "import pandas as pd\n",
    "from pmaw import PushshiftAPI\n",
    "api = PushshiftAPI()"
   ]
  },
  {
   "cell_type": "code",
   "execution_count": 12,
   "id": "55dc4fc0-6472-4821-ace2-7fecc2f243f0",
   "metadata": {},
   "outputs": [],
   "source": [
    "# Setting timeframe at which to pull data from Pushshift\n",
    "\n",
    "import datetime as dt\n",
    "before = int(dt.datetime(2021,12,1,0,0).timestamp())\n",
    "after = int(dt.datetime(2021,11,1,0,0).timestamp())"
   ]
  },
  {
   "cell_type": "code",
   "execution_count": 13,
   "id": "a3fa6b8e-5fc5-457a-9a7a-04d898f8cfd2",
   "metadata": {},
   "outputs": [
    {
     "name": "stdout",
     "output_type": "stream",
     "text": [
      "INFO:pmaw.PushshiftAPIBase:814 result(s) not found in Pushshift\n",
      "INFO:pmaw.PushshiftAPIBase:Checkpoint:: Success Rate: 94.00% - Requests: 100 - Batches: 10 - Items Remaining: 826\n",
      "INFO:pmaw.PushshiftAPIBase:Total:: Success Rate: 94.96% - Requests: 119 - Batches: 12 - Items Remaining: 5\n",
      "INFO:pmaw.PushshiftAPIBase:5 result(s) not found in Pushshift\n",
      "Retrieved 9181 comments from Pushshift\n"
     ]
    }
   ],
   "source": [
    "# Collecting from /r/Bitcoin, limit at 10000 posts\n",
    "\n",
    "subreddit=\"Bitcoin\"\n",
    "limit=10000\n",
    "# Create the query object\n",
    "posts = api.search_submissions(subreddit=subreddit, limit=limit, before=before, after=after)\n",
    "print(f'Retrieved {len(posts)} submissions from Pushshift')"
   ]
  },
  {
   "cell_type": "code",
   "execution_count": 6,
   "id": "c85f63a6-0eb9-4b24-9a4f-fe94492d4b1f",
   "metadata": {},
   "outputs": [],
   "source": [
    "posts_df = pd.DataFrame(posts)"
   ]
  },
  {
   "cell_type": "code",
   "execution_count": 7,
   "id": "953e9588-880f-48df-8731-d11517f62ece",
   "metadata": {},
   "outputs": [],
   "source": [
    "# Clean up data\n",
    "# Remove unnecessary data from the dataframe\n",
    "\n",
    "posts_df = posts_df.drop(columns = ['all_awardings', 'allow_live_comments', 'author_flair_css_class', 'author_flair_richtext', 'author_flair_text',\n",
    "        'author_flair_type', 'author_fullname', 'author_is_blocked', 'author_patreon_flair', 'awarders',\n",
    "        'can_mod_post', 'contest_mode', 'domain', 'domain', 'is_crosspostable', 'is_meta', 'gildings',\n",
    "        'is_reddit_media_domain', 'is_robot_indexable', 'is_self', 'author_flair_background_color', \n",
    "        'author_cakeday', 'link_flair_template_id', 'banned_by', 'edited', 'distinguished', 'suggested_sort',\n",
    "        'link_flair_css_class', 'crosspost_parent', 'crosspost_parent_list', 'is_video', 'link_flair_background_color',\n",
    "        'link_flair_richtext', 'media', 'media_embed', 'secure_media', 'link_flair_text', 'author_flair_template_id',\n",
    "        'author_flair_text_color', 'gallery_data', 'is_gallery', 'media_metadata', 'link_flair_text_color',\n",
    "        'link_flair_type', 'locked', 'thumbnail_width', 'treatment_tags', 'url', 'url_overridden_by_dest',\n",
    "        'whitelist_status', 'wls', 'secure_media_embed', 'no_follow', 'stickied', 'subreddit_id', \n",
    "        'subreddit_type', 'thumbnail', 'thumbnail_height', 'spoiler', 'send_replies', 'subreddit', 'over_18', 'pinned', 'is_created_from_ads_ui', \n",
    "        'is_original_content', 'media_only', 'parent_whitelist_status', 'pwls', 'removed_by_category', 'post_hint', 'author_premium', 'preview'], axis=1)"
   ]
  },
  {
   "cell_type": "code",
   "execution_count": 9,
   "id": "3cfbc380-ef9f-4fdb-a719-a30b1fa412d9",
   "metadata": {},
   "outputs": [],
   "source": [
    "# Convert Unix time to datetime and store in list\n",
    "from datetime import datetime\n",
    "\n",
    "date = []\n",
    "\n",
    "for udate in posts_df['created_utc']:\n",
    "    d = int(udate)\n",
    "    date.append(datetime.utcfromtimestamp(d).strftime('%Y-%m-%d %H:%M:%S'))\n",
    "    \n",
    "posts_df['date'] = date"
   ]
  },
  {
   "cell_type": "code",
   "execution_count": 10,
   "id": "b210012a-bc63-4929-8cdd-55c879cca2af",
   "metadata": {},
   "outputs": [],
   "source": [
    "posts_df.to_csv('RedditData.csv')\n",
    "\n",
    "# posts_df.to_csv('./wsb_comments.csv', header=True, index=False, columns=list(posts_df.axes[1]))"
   ]
  }
 ],
 "metadata": {
  "kernelspec": {
   "display_name": "Python 3 (ipykernel)",
   "language": "python",
   "name": "python3"
  },
  "language_info": {
   "codemirror_mode": {
    "name": "ipython",
    "version": 3
   },
   "file_extension": ".py",
   "mimetype": "text/x-python",
   "name": "python",
   "nbconvert_exporter": "python",
   "pygments_lexer": "ipython3",
   "version": "3.8.8"
  }
 },
 "nbformat": 4,
 "nbformat_minor": 5
}
