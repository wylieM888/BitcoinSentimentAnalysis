{
 "cells": [
  {
   "cell_type": "code",
   "execution_count": null,
   "id": "d653ae44-d94a-4f49-90ed-5c465dafc19e",
   "metadata": {},
   "outputs": [],
   "source": [
    "#### Part 3. Sentiment Analysis\n",
    "# Guide for code: https://www.youtube.com/watch?v=DFtP1THE8fE"
   ]
  },
  {
   "cell_type": "code",
   "execution_count": null,
   "id": "aadb2c20-6872-4755-b0cb-d7767143a03d",
   "metadata": {},
   "outputs": [],
   "source": [
    "# Download Flair at https://pytorch.org/get-started/locally/\n",
    "# If you have a dedicated graphics card, you might be able to leverage the CUDA cores\n",
    "import flair\n",
    "import pandas as pd\n",
    "pd.set_option('display.max_colwidth', None)"
   ]
  },
  {
   "cell_type": "code",
   "execution_count": null,
   "id": "41d7924c-ed37-4715-be66-8c48f235aa67",
   "metadata": {},
   "outputs": [],
   "source": [
    "# Might require downloading for first time\n",
    "# Loads the English sentiment classifier\n",
    "sentiment_model = flair.models.TextClassifier.load('en-sentiment')"
   ]
  },
  {
   "cell_type": "code",
   "execution_count": null,
   "id": "51b6dc39-12c9-4ca7-9f3f-62d9044c8cf1",
   "metadata": {},
   "outputs": [],
   "source": [
    "# Create the Pandas dataframe. Can select a different dataset if desired.\n",
    "df = pd.read_csv('RedditData.csv', sep=',')\n",
    "df.head()"
   ]
  },
  {
   "cell_type": "code",
   "execution_count": null,
   "id": "56c66cb5-8c75-4a97-be91-d68ee936d4c3",
   "metadata": {},
   "outputs": [],
   "source": [
    "# Removes duplicates from data being analyzed [title of /r/Bitcoin post] for normalization\n",
    "df.drop_duplicates(subset='title', keep='first',inplace=True)"
   ]
  },
  {
   "cell_type": "code",
   "execution_count": null,
   "id": "c35c9507-596a-4051-964c-9a7ab81529f1",
   "metadata": {},
   "outputs": [],
   "source": [
    "# Tokenize the sentences and predict the sentiment of each\n",
    "# This might take some time to complete\n",
    "\n",
    "sentiment = []\n",
    "confidence = []\n",
    "\n",
    "for sentence in df['title']:\n",
    "    # Tokenizing sentence\n",
    "    sample = flair.data.Sentence(sentence)\n",
    "    # Make prediction with tokenized sentence\n",
    "    sentiment_model.predict(sample)\n",
    "    \n",
    "    # If topic is empty, input empty string\n",
    "    if sentence.strip() == \"\":\n",
    "        sentiment.append(\"\")\n",
    "        confidence.append(\"\")\n",
    "    \n",
    "    # If there's text, add sentiment data to list\n",
    "    else:\n",
    "        sentiment.append(sample.labels[0].value)\n",
    "        confidence.append(sample.labels[0].score)"
   ]
  },
  {
   "cell_type": "code",
   "execution_count": null,
   "id": "63a5158d-7e61-47f4-a74d-0103c89d5f4b",
   "metadata": {},
   "outputs": [],
   "source": [
    "# Add the sentiment values and confidence scores to dataframe\n",
    "\n",
    "df['sentiment'] = sentiment\n",
    "df['confidence'] = confidence"
   ]
  },
  {
   "cell_type": "code",
   "execution_count": null,
   "id": "bebd4dc3-e512-431f-bd07-c463101b311d",
   "metadata": {},
   "outputs": [],
   "source": [
    "df.to_csv('SentimentAnalysis.csv')"
   ]
  },
  {
   "cell_type": "code",
   "execution_count": null,
   "id": "e71f898d-f8cf-47dc-9277-7354004ebd09",
   "metadata": {},
   "outputs": [],
   "source": [
    "# Getting Data ready for Visualization\n",
    "\n",
    "bitdata = pd.read_csv('BitcoinData.csv')"
   ]
  },
  {
   "cell_type": "code",
   "execution_count": null,
   "id": "09ed1e3a-4699-45fc-a4aa-7c691a6cf951",
   "metadata": {},
   "outputs": [],
   "source": [
    "df['date'] = pd.to_datetime(df['date'])\n",
    "bitdata['time'] = pd.to_datetime(bitdata[\"time\"])"
   ]
  },
  {
   "cell_type": "code",
   "execution_count": null,
   "id": "d3b321a2-a96e-42a5-b13b-383180cdbe29",
   "metadata": {},
   "outputs": [],
   "source": [
    "# Creating a new Dataframe to plot the Bitcoin Price vs. highest Sentiment Value in the hour\n",
    "# Might take a little bit of time to complete\n",
    "\n",
    "sentiment = []\n",
    "score = []\n",
    "dates = []\n",
    "low = []\n",
    "high = []\n",
    "openv = []\n",
    "closev = []\n",
    "volume = []\n",
    "\n",
    "for idx, subpost in enumerate(bitdata['time'], start=0):\n",
    "    bday = int(subpost.dayofyear)\n",
    "    bhour = int(subpost.hour)\n",
    "    nTotal = 0\n",
    "    pTotal = 0\n",
    "    try:\n",
    "        for index, ent in enumerate(df['date'], start=0):\n",
    "            sday = int(ent.dayofyear)\n",
    "            shour = int(ent.hour)\n",
    "            # If post was made in an hour, add up the total Positive and Negative Values\n",
    "            if ((sday == bday) and (shour == bhour)):\n",
    "                if (df.loc[index, \"sentiment\"] == 'NEGATIVE'):\n",
    "                    nTotal += 1\n",
    "                else:\n",
    "                    pTotal += 1\n",
    "        # If the total Negative is greater than positive, calculate percentage of negative comments\n",
    "        #    in the hour and add to score\n",
    "        if (nTotal > pTotal):\n",
    "            sentiment.append(\"NEGATIVE\")\n",
    "            score.append(nTotal/(nTotal + pTotal))\n",
    "            dates.append(subpost)\n",
    "            low.append(bitdata.loc[idx, 'low'])\n",
    "            high.append(bitdata.loc[idx, 'high'])\n",
    "            openv.append(bitdata.loc[idx, 'open'])\n",
    "            closev.append(bitdata.loc[idx, 'close'])\n",
    "            volume.append(bitdata.loc[idx, 'volume'])\n",
    "        # If the total Positive is greater than negative, calculate percentage of positive comments\n",
    "        #    in the hour and add to score.\n",
    "        elif (pTotal > nTotal):\n",
    "            sentiment.append(\"POSITIVE\")\n",
    "            score.append(pTotal/(nTotal + pTotal))\n",
    "            dates.append(subpost)\n",
    "            low.append(bitdata.loc[idx, 'low'])\n",
    "            high.append(bitdata.loc[idx, 'high'])\n",
    "            openv.append(bitdata.loc[idx, 'open'])\n",
    "            closev.append(bitdata.loc[idx, 'close'])\n",
    "            volume.append(bitdata.loc[idx, 'volume'])\n",
    "        # If both Pos and Neg are equal, the sentiment is Neutral. Set score to 0\n",
    "        else:\n",
    "            sentiment.append(\"NEUTRAL\")\n",
    "            score.append(0)\n",
    "            dates.append(subpost)\n",
    "            low.append(bitdata.loc[idx, 'low'])\n",
    "            high.append(bitdata.loc[idx, 'high'])\n",
    "            openv.append(bitdata.loc[idx, 'open'])\n",
    "            closev.append(bitdata.loc[idx, 'close'])\n",
    "            volume.append(bitdata.loc[idx, 'volume'])\n",
    "    except KeyError:\n",
    "        continue\n",
    "    else:\n",
    "        continue"
   ]
  },
  {
   "cell_type": "code",
   "execution_count": null,
   "id": "300fb379-101d-4bbf-96ff-5c3a93d035a3",
   "metadata": {},
   "outputs": [],
   "source": [
    "# Create a dataframe from the values collected\n",
    "\n",
    "sent_time_df = pd.DataFrame(dates, columns = ['date'])\n",
    "sent_time_df['sentiment'] = sentiment\n",
    "sent_time_df['score'] = score\n",
    "sent_time_df['low'] = low\n",
    "sent_time_df['high'] = high\n",
    "sent_time_df['open'] = openv\n",
    "sent_time_df['close'] = closev\n",
    "sent_time_df['volume'] = volume"
   ]
  },
  {
   "cell_type": "code",
   "execution_count": null,
   "id": "4cdc527f-ccd5-44f4-8d1a-9fc166cbb8c8",
   "metadata": {},
   "outputs": [],
   "source": [
    "# Save the data for Version Control\n",
    "\n",
    "sent_time_df.to_csv('SentimentOverTime.csv')"
   ]
  },
  {
   "cell_type": "code",
   "execution_count": null,
   "id": "1f05107f-ecc6-46c7-882e-943beb124ad3",
   "metadata": {},
   "outputs": [],
   "source": [
    "# Bitcoin Price vs Sentiment Value Data Visualization\n",
    "# Trying to see if the value of Bitcoin is correlative to the sentiment value on\n",
    "#    /r/Bitcoin\n",
    "\n",
    "import plotly\n",
    "import plotly.graph_objects as go\n",
    "from datetime import datetime\n",
    "import plotly.io as pio\n",
    "from plotly.subplots import make_subplots\n",
    "from plotly.offline import plot, iplot, init_notebook_mode\n",
    "init_notebook_mode(connected=True)\n",
    "import plotly.express as px"
   ]
  },
  {
   "cell_type": "code",
   "execution_count": null,
   "id": "322da23d-61cb-44ce-884c-d42aee5ae01d",
   "metadata": {},
   "outputs": [],
   "source": [
    "# Creating a list of colors to represent the Sentiment Value\n",
    "# If the highest sentiment for the hour is NEGATIVE, then color is red. Green in Positive\n",
    "\n",
    "red = 'rgb(222,0,0)'\n",
    "green = 'rgb(0,222,0)'\n",
    "colors = [red if sent_time_df.loc[index, 'sentiment'] == 'NEGATIVE' else green for index in range(len(sent_time_df))]\n",
    "\n",
    "sent_time_df['color'] = colors"
   ]
  },
  {
   "cell_type": "code",
   "execution_count": null,
   "id": "9c59cfb1-f0d9-403e-8b87-d24782716958",
   "metadata": {},
   "outputs": [],
   "source": [
    "# Plotly visualization for Bitcoin Data\n",
    "# May not show up. Can use Jupyter Notebook to view\n",
    "\n",
    "# Create figure with secondary y-axis\n",
    "fig = make_subplots(specs=[[{\"secondary_y\": True}]])\n",
    "\n",
    "# Candlestick Bitcoin price\n",
    "trace1 = go.Candlestick(x=sent_time_df['date'],\n",
    "                open=sent_time_df['open'], high=sent_time_df['high'],\n",
    "                low=sent_time_df['low'], close=sent_time_df['close'], name=\"Bitcoin Price\")\n",
    "\n",
    "# Create a go.Bar to simplify viewing data\n",
    "trace2 = go.Bar(x=sent_time_df['date'], y=sent_time_df['score'], name=\"Sentiment\", marker_color=sent_time_df['color'])\n",
    "\n",
    "# Add traces to figure\n",
    "fig.add_trace(trace1, secondary_y=True)\n",
    "fig.add_trace(trace2, secondary_y=False)\n",
    "\n",
    "fig.layout.yaxis2.showgrid=False\n",
    "fig.show(\"notebook\")"
   ]
  },
  {
   "cell_type": "code",
   "execution_count": null,
   "id": "a3e9a648-f85f-4ba2-95d6-ee08a0ef446e",
   "metadata": {},
   "outputs": [],
   "source": []
  }
 ],
 "metadata": {
  "kernelspec": {
   "display_name": "Python 3 (ipykernel)",
   "language": "python",
   "name": "python3"
  },
  "language_info": {
   "codemirror_mode": {
    "name": "ipython",
    "version": 3
   },
   "file_extension": ".py",
   "mimetype": "text/x-python",
   "name": "python",
   "nbconvert_exporter": "python",
   "pygments_lexer": "ipython3",
   "version": "3.8.8"
  }
 },
 "nbformat": 4,
 "nbformat_minor": 5
}
