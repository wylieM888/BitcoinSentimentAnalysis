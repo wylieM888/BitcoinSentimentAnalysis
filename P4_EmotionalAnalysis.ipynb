{
 "cells": [
  {
   "cell_type": "code",
   "execution_count": 32,
   "id": "938a6927-38f0-4f5c-a17e-82dabf327041",
   "metadata": {},
   "outputs": [],
   "source": [
    "import pandas as pd\n",
    "pd.set_option('display.max_colwidth', None)"
   ]
  },
  {
   "cell_type": "code",
   "execution_count": 33,
   "id": "8afd3b6c-a3f0-4718-b9b1-7c9547b6f731",
   "metadata": {},
   "outputs": [],
   "source": [
    "df = pd.read_csv('SentimentAnalysis.csv')"
   ]
  },
  {
   "cell_type": "code",
   "execution_count": 34,
   "id": "e72d9e7d-46b8-447d-a44b-712d202c5b62",
   "metadata": {},
   "outputs": [],
   "source": [
    "# NLTK splits the Reddit titles into separate sentences\n",
    "import nltk"
   ]
  },
  {
   "cell_type": "code",
   "execution_count": 35,
   "id": "c889751f-6a39-42b8-ac68-4959de7197a9",
   "metadata": {},
   "outputs": [],
   "source": [
    "# List to hold the sentences\n",
    "s_list = []\n",
    "# List to hold the IDs. Keeps track of individual posts, just in case it's needed later\n",
    "id_list = []\n",
    "\n",
    "for index, title in enumerate(df['title']):\n",
    "    id = df.loc[index, 'id']\n",
    "    a_list = nltk.tokenize.sent_tokenize(title)\n",
    "    for sentence in a_list:\n",
    "        id_list.append(id)\n",
    "        s_list.append(sentence)"
   ]
  },
  {
   "cell_type": "code",
   "execution_count": 37,
   "id": "786c1517-438c-4a84-9d4c-da65c5639cfa",
   "metadata": {},
   "outputs": [],
   "source": [
    "# https://pypi.org/project/NRCLex/\n",
    "# NCRLex uses a 27,000 word library to predict emotions of the sentences\n",
    "\n",
    "from nrclex import NRCLex"
   ]
  },
  {
   "cell_type": "code",
   "execution_count": 38,
   "id": "36a98f16-51c2-45ed-91f5-5cf587c41357",
   "metadata": {},
   "outputs": [],
   "source": [
    "# Create a list to hold the NRCLex objects\n",
    "emotions = []\n",
    "\n",
    "# Create NRCLex objects out of each sentence\n",
    "for sentence in s_list:\n",
    "    emo = NRCLex(sentence)\n",
    "    emotions.append(emo)"
   ]
  },
  {
   "cell_type": "code",
   "execution_count": 39,
   "id": "aad5a836-eb18-40fb-bf52-31765312b5dd",
   "metadata": {},
   "outputs": [],
   "source": [
    "# NRCLex determined that some of the results were completely neutral\n",
    "# To clean out the results from neutral results, create a new list\n",
    "# This is done by adding the values for each emotion, and if >0, add to new list\n",
    "emo2 = []\n",
    "\n",
    "for i in emotions:\n",
    "    val = 0\n",
    "    for key in i.affect_frequencies:\n",
    "        val += i.affect_frequencies[key]\n",
    "#     if (val != 0):\n",
    "#         emo2.append(i)\n",
    "    emo2.append(i)"
   ]
  },
  {
   "cell_type": "code",
   "execution_count": 40,
   "id": "250cfcb5-86ed-4e8f-bf77-f844ae48931e",
   "metadata": {},
   "outputs": [],
   "source": [
    "for sentence in emo2:\n",
    "    if 'anticip' in sentence.affect_frequencies:\n",
    "        del sentence.affect_frequencies['anticip']\n",
    "    if 'positive' in sentence.affect_frequencies:\n",
    "        del sentence.affect_frequencies['positive']\n",
    "    if 'negative' in sentence.affect_frequencies:\n",
    "        del sentence.affect_frequencies['negative']"
   ]
  },
  {
   "cell_type": "code",
   "execution_count": 42,
   "id": "a8b19a33-1b52-48a9-a5f3-81683d7e3755",
   "metadata": {},
   "outputs": [],
   "source": [
    "# https://github.com/alfonsosemeraro/pyplutchik\n",
    "# Visualization tool based on Plutchik's Model of Emotions (flower)\n",
    "\n",
    "from pyplutchik import plutchik"
   ]
  },
  {
   "cell_type": "code",
   "execution_count": 43,
   "id": "61da7895-c1cc-417b-bf40-521a7ba045c4",
   "metadata": {},
   "outputs": [],
   "source": [
    "# Averaging out the average emotional value across all posts\n",
    "\n",
    "# Stores to total number of posts\n",
    "count = 0\n",
    "\n",
    "# First used to store the total value of each emotional value\n",
    "# Then calculate the \n",
    "avg_joy = 0.0\n",
    "avg_trust = 0.0\n",
    "avg_fear = 0.0\n",
    "avg_supr = 0.0\n",
    "avg_sad = 0.0\n",
    "avg_disg = 0.0\n",
    "avg_ang = 0.0\n",
    "avg_ant = 0.0"
   ]
  },
  {
   "cell_type": "code",
   "execution_count": 44,
   "id": "fc459a51-903f-48ba-9a7d-63d739bede41",
   "metadata": {},
   "outputs": [],
   "source": [
    "for sentence in emo2:\n",
    "    count += 1\n",
    "    for key in sentence.affect_frequencies:\n",
    "        if key == 'joy':\n",
    "            avg_joy += sentence.affect_frequencies[key]\n",
    "        elif key == 'trust':\n",
    "            avg_trust += sentence.affect_frequencies[key]\n",
    "        elif key == 'fear':\n",
    "            avg_fear += sentence.affect_frequencies[key]\n",
    "        elif key == 'surpise':\n",
    "            avg_supr += sentence.affect_frequencies[key]\n",
    "        elif key == 'sadness':\n",
    "            avg_sad += sentence.affect_frequencies[key]\n",
    "        elif key == 'disgust':\n",
    "            avg_disg += sentence.affect_frequencies[key]\n",
    "        elif key == 'anger':\n",
    "            avg_ang += sentence.affect_frequencies[key]\n",
    "        elif key == 'anticipation':\n",
    "            avg_ant += sentence.affect_frequencies[key]\n",
    "            \n",
    "test = {'joy': avg_joy/count,\n",
    "            'trust': avg_trust/count,\n",
    "            'fear': avg_fear/count,\n",
    "            'surprise': avg_supr/count,\n",
    "            'sadness': avg_sad/count,\n",
    "            'disgust': avg_disg/count,\n",
    "            'anger': avg_ang/count,\n",
    "            'anticipation': avg_ant/count}"
   ]
  },
  {
   "cell_type": "code",
   "execution_count": 45,
   "id": "6e9b6c1a-8b6c-48c2-bb66-28a9c817714e",
   "metadata": {},
   "outputs": [
    {
     "name": "stderr",
     "output_type": "stream",
     "text": [
      "C:\\Users\\guest1\\anaconda3\\lib\\site-packages\\descartes\\patch.py:62: ShapelyDeprecationWarning:\n",
      "\n",
      "The array interface is deprecated and will no longer work in Shapely 2.0. Convert the '.coords' to a numpy array instead.\n",
      "\n",
      "C:\\Users\\guest1\\anaconda3\\lib\\site-packages\\pyplutchik\\pyplutchik.py:770: MatplotlibDeprecationWarning:\n",
      "\n",
      "The 's' parameter of annotate() has been renamed 'text' since Matplotlib 3.3; support for the old name will be dropped two minor releases later.\n",
      "\n",
      "C:\\Users\\guest1\\anaconda3\\lib\\site-packages\\pyplutchik\\pyplutchik.py:775: MatplotlibDeprecationWarning:\n",
      "\n",
      "The 's' parameter of annotate() has been renamed 'text' since Matplotlib 3.3; support for the old name will be dropped two minor releases later.\n",
      "\n"
     ]
    },
    {
     "data": {
      "text/plain": [
       "<AxesSubplot:>"
      ]
     },
     "execution_count": 45,
     "metadata": {},
     "output_type": "execute_result"
    },
    {
     "data": {
      "image/png": "[encoded data removed]",
      "text/plain": [
       "<Figure size 576x576 with 1 Axes>"
      ]
     },
     "metadata": {
      "needs_background": "light"
     },
     "output_type": "display_data"
    }
   ],
   "source": [
    "plutchik(test)"
   ]
  },
  {
   "cell_type": "code",
   "execution_count": 46,
   "id": "d263a738-c238-4a6c-b092-a66089b6cb10",
   "metadata": {},
   "outputs": [
    {
     "name": "stdout",
     "output_type": "stream",
     "text": [
      "0.18601075061308575\n"
     ]
    }
   ],
   "source": [
    "total_perc = 0.0\n",
    "\n",
    "for key in test:\n",
    "    total_perc += test[key]\n",
    "\n",
    "print(total_perc)\n",
    "\n",
    "test2 = {'joy': (avg_joy/count)/total_perc,\n",
    "            'trust': (avg_trust/count)/total_perc,\n",
    "            'fear': (avg_fear/count)/total_perc,\n",
    "            'surprise': (avg_supr/count)/total_perc,\n",
    "            'sadness': (avg_sad/count)/total_perc,\n",
    "            'disgust': (avg_disg/count)/total_perc,\n",
    "            'anger': (avg_ang/count)/total_perc,\n",
    "            'anticipation': (avg_ant/count)/total_perc}"
   ]
  },
  {
   "cell_type": "code",
   "execution_count": 47,
   "id": "5dd6896a-ba18-4889-a6b1-3996dd3cf0dd",
   "metadata": {},
   "outputs": [
    {
     "data": {
      "text/plain": [
       "<AxesSubplot:>"
      ]
     },
     "execution_count": 47,
     "metadata": {},
     "output_type": "execute_result"
    },
    {
     "data": {
      "image/png": "[encoded data removed]",
      "text/plain": [
       "<Figure size 576x576 with 1 Axes>"
      ]
     },
     "metadata": {
      "needs_background": "light"
     },
     "output_type": "display_data"
    }
   ],
   "source": [
    "plutchik(test2)"
   ]
  },
  {
   "cell_type": "code",
   "execution_count": 49,
   "id": "c714b64c-2752-4c3d-8626-cc2968759cab",
   "metadata": {},
   "outputs": [],
   "source": [
    "# Average measure of intensity of emotion\n",
    "avg_joy = 0.0\n",
    "avg_trust = 0.0\n",
    "avg_fear = 0.0\n",
    "avg_supr = 0.0\n",
    "avg_sad = 0.0\n",
    "avg_disg = 0.0\n",
    "avg_ang = 0.0\n",
    "avg_ant = 0.0\n",
    "\n",
    "joyct = 0\n",
    "trustct = 0\n",
    "fearct = 0\n",
    "suprct = 0\n",
    "sadct = 0\n",
    "disgct = 0\n",
    "angct = 0\n",
    "antct = 0"
   ]
  },
  {
   "cell_type": "code",
   "execution_count": 50,
   "id": "d71934d8-4d0c-4aec-8494-37603f14c1e7",
   "metadata": {},
   "outputs": [],
   "source": [
    "for sentence in emo2:\n",
    "    count += 1\n",
    "    for key in sentence.affect_frequencies:\n",
    "        if key == 'joy' and sentence.affect_frequencies['joy'] != 0.0:\n",
    "            joyct += 1\n",
    "            avg_joy += sentence.affect_frequencies[key]\n",
    "        elif key == 'trust'and sentence.affect_frequencies['trust'] != 0.0:\n",
    "            avg_trust += sentence.affect_frequencies[key]\n",
    "            trustct += 1\n",
    "        elif key == 'fear'and sentence.affect_frequencies['fear'] != 0.0:\n",
    "            avg_fear += sentence.affect_frequencies[key]\n",
    "            fearct += 1\n",
    "        elif key == 'surpise'and sentence.affect_frequencies['surpise'] != 0.0:\n",
    "            avg_supr += sentence.affect_frequencies[key]\n",
    "            suprct += 1\n",
    "        elif key == 'sadness'and sentence.affect_frequencies['sadness'] != 0.0:\n",
    "            avg_sad += sentence.affect_frequencies[key]\n",
    "            sadct += 1\n",
    "        elif key == 'disgust'and sentence.affect_frequencies['disgust'] != 0.0:\n",
    "            avg_disg += sentence.affect_frequencies[key]\n",
    "            disgct += 1\n",
    "        elif key == 'anger'and sentence.affect_frequencies['anger'] != 0.0:\n",
    "            avg_ang += sentence.affect_frequencies[key]\n",
    "            angct += 1\n",
    "        elif key == 'anticipation'and sentence.affect_frequencies['anticipation'] != 0.0:\n",
    "            avg_ant += sentence.affect_frequencies[key]\n",
    "            antct += 1\n",
    "\n",
    "test = {'joy': avg_joy/joyct,\n",
    "            'trust': avg_trust/trustct,\n",
    "            'fear': avg_fear/fearct,\n",
    "            'surprise': avg_supr,\n",
    "            'sadness': avg_sad/sadct,\n",
    "            'disgust': avg_disg/disgct,\n",
    "            'anger': avg_ang/angct,\n",
    "            'anticipation': avg_ant/antct}"
   ]
  },
  {
   "cell_type": "code",
   "execution_count": 51,
   "id": "4d5b77a9-4b81-464e-9385-1123018c755a",
   "metadata": {},
   "outputs": [
    {
     "data": {
      "text/plain": [
       "<AxesSubplot:>"
      ]
     },
     "execution_count": 51,
     "metadata": {},
     "output_type": "execute_result"
    },
    {
     "data": {
      "image/png": "[encoded data removed]",
      "text/plain": [
       "<Figure size 576x576 with 1 Axes>"
      ]
     },
     "metadata": {
      "needs_background": "light"
     },
     "output_type": "display_data"
    }
   ],
   "source": [
    "plutchik(test)"
   ]
  },
  {
   "cell_type": "code",
   "execution_count": null,
   "id": "823da227-1f8d-4756-a909-0d92e86f6211",
   "metadata": {},
   "outputs": [],
   "source": [
    "# text2emotion Emotion Analysis\n",
    "\n",
    "# pip install text2emotion\n",
    "# https://colab.research.google.com/drive/1sCAcIGk2q9dL8dpFYddnsUin2MlhjaRw?usp=sharing#scrollTo=D3QHLMdnbMCX\n",
    "\n",
    "import text2emotion as te"
   ]
  },
  {
   "cell_type": "code",
   "execution_count": 10,
   "id": "da2972e9-9efc-470a-bff6-0edd23c01119",
   "metadata": {},
   "outputs": [],
   "source": [
    "angry = []\n",
    "fear = []\n",
    "happy = []\n",
    "sad = []\n",
    "surpise = []\n",
    "\n",
    "for i in s_list:\n",
    "    elist = te.get_emotion(i)\n",
    "    angry.append(elist[\"Angry\"])\n",
    "    fear.append(elist[\"Fear\"])\n",
    "    happy.append(elist[\"Happy\"])\n",
    "    sad.append(elist[\"Sad\"])\n",
    "    surpise.append(elist[\"Surprise\"])"
   ]
  },
  {
   "cell_type": "code",
   "execution_count": 13,
   "id": "37ff40f3-7c91-4b6f-83ab-1411f3c697dd",
   "metadata": {},
   "outputs": [],
   "source": [
    "emolist = pd.DataFrame(s_list, columns = ['Sentence'])"
   ]
  },
  {
   "cell_type": "code",
   "execution_count": 14,
   "id": "cb2de6e2-70e6-423c-8bc9-20f5b0caa277",
   "metadata": {},
   "outputs": [],
   "source": [
    "emolist[\"Angry\"] = angry\n",
    "emolist[\"Fear\"] = fear\n",
    "emolist[\"Happy\"] = happy\n",
    "emolist[\"Sad\"] = sad\n",
    "emolist[\"Surprise\"] = surpise"
   ]
  },
  {
   "cell_type": "code",
   "execution_count": 16,
   "id": "0d8bc02a-7f2c-452e-acc8-6939f2abb8f2",
   "metadata": {},
   "outputs": [],
   "source": [
    "emolist.to_csv(\"text2emotionEmoList.csv\")"
   ]
  },
  {
   "cell_type": "code",
   "execution_count": 17,
   "id": "0c5fc0e0-bc39-4ce0-a6cb-9dc26c855dbc",
   "metadata": {},
   "outputs": [],
   "source": [
    "import plotly.express as px \n",
    "import pandas as pd \n",
    "import numpy as np "
   ]
  },
  {
   "cell_type": "code",
   "execution_count": 21,
   "id": "102c26ff-0677-46b2-894d-9b7294e200bd",
   "metadata": {},
   "outputs": [],
   "source": [
    "ang_tot = emolist[\"Angry\"].sum()\n",
    "fear_tot = emolist[\"Fear\"].sum()\n",
    "happ_tot = emolist[\"Happy\"].sum()\n",
    "sad_tot = emolist[\"Sad\"].sum()\n",
    "surprise_tot = emolist[\"Surprise\"].sum()\n",
    "\n",
    "total = ang_tot + fear_tot + happ_tot + sad_tot + surprise_tot"
   ]
  },
  {
   "cell_type": "code",
   "execution_count": 20,
   "id": "a90a8aa7-2ade-440a-a2f3-f99b394a2810",
   "metadata": {},
   "outputs": [
    {
     "name": "stdout",
     "output_type": "stream",
     "text": [
      "284.37\n"
     ]
    }
   ],
   "source": [
    "print(ang_tot)"
   ]
  },
  {
   "cell_type": "code",
   "execution_count": 22,
   "id": "9a22000c-b890-4573-a175-63a99ff396e5",
   "metadata": {},
   "outputs": [],
   "source": [
    "val = [ang_tot, fear_tot, happ_tot, sad_tot, surprise_tot]\n",
    "names = [\"Angry\", \"Fear\", \"Happy\", \"Sad\", \"Surpise\"]"
   ]
  },
  {
   "cell_type": "code",
   "execution_count": 30,
   "id": "37afafff-07ce-495e-980c-40e50859a536",
   "metadata": {},
   "outputs": [],
   "source": [
    "fig = px.pie(values=val, names=names, title=\"Emotions(text2emotion) in /r/Bitcoin (November 2021)\", color_discrete_sequence=px.colors.sequential.RdBu)"
   ]
  },
  {
   "cell_type": "code",
   "execution_count": 31,
   "id": "7dd6c442-edb6-4140-b838-915119c49789",
   "metadata": {},
   "outputs": [
    {
     "data": {
      "application/vnd.plotly.v1+json": {
       "config": {
        "plotlyServerURL": "https://plot.ly"
       },
       "data": [
        {
         "domain": {
          "x": [
           0,
           1
          ],
          "y": [
           0,
           1
          ]
         },
         "hovertemplate": "label=%{label}<br>value=%{value}<extra></extra>",
         "labels": [
          "Angry",
          "Fear",
          "Happy",
          "Sad",
          "Surpise"
         ],
         "legendgroup": "",
         "name": "",
         "showlegend": true,
         "type": "pie",
         "values": [
          284.37,
          2801.9000000000005,
          785.2,
          1193.4,
          1425.89
         ]
        }
       ],
       "layout": {
        "autosize": true,
        "legend": {
         "tracegroupgap": 0
        },
        "piecolorway": [
         "rgb(103,0,31)",
         "rgb(178,24,43)",
         "rgb(214,96,77)",
         "rgb(244,165,130)",
         "rgb(253,219,199)",
         "rgb(247,247,247)",
         "rgb(209,229,240)",
         "rgb(146,197,222)",
         "rgb(67,147,195)",
         "rgb(33,102,172)",
         "rgb(5,48,97)"
        ],
        "template": {
         "data": {
          "bar": [
           {
            "error_x": {
             "color": "#2a3f5f"
            },
            "error_y": {
             "color": "#2a3f5f"
            },
            "marker": {
             "line": {
              "color": "#E5ECF6",
              "width": 0.5
             },
             "pattern": {
              "fillmode": "overlay",
              "size": 10,
              "solidity": 0.2
             }
            },
            "type": "bar"
           }
          ],
          "barpolar": [
           {
            "marker": {
             "line": {
              "color": "#E5ECF6",
              "width": 0.5
             },
             "pattern": {
              "fillmode": "overlay",
              "size": 10,
              "solidity": 0.2
             }
            },
            "type": "barpolar"
           }
          ],
          "carpet": [
           {
            "aaxis": {
             "endlinecolor": "#2a3f5f",
             "gridcolor": "white",
             "linecolor": "white",
             "minorgridcolor": "white",
             "startlinecolor": "#2a3f5f"
            },
            "baxis": {
             "endlinecolor": "#2a3f5f",
             "gridcolor": "white",
             "linecolor": "white",
             "minorgridcolor": "white",
             "startlinecolor": "#2a3f5f"
            },
            "type": "carpet"
           }
          ],
          "choropleth": [
           {
            "colorbar": {
             "outlinewidth": 0,
             "ticks": ""
            },
            "type": "choropleth"
           }
          ],
          "contour": [
           {
            "colorbar": {
             "outlinewidth": 0,
             "ticks": ""
            },
            "colorscale": [
             [
              0,
              "#0d0887"
             ],
             [
              0.1111111111111111,
              "#46039f"
             ],
             [
              0.2222222222222222,
              "#7201a8"
             ],
             [
              0.3333333333333333,
              "#9c179e"
             ],
             [
              0.4444444444444444,
              "#bd3786"
             ],
             [
              0.5555555555555556,
              "#d8576b"
             ],
             [
              0.6666666666666666,
              "#ed7953"
             ],
             [
              0.7777777777777778,
              "#fb9f3a"
             ],
             [
              0.8888888888888888,
              "#fdca26"
             ],
             [
              1,
              "#f0f921"
             ]
            ],
            "type": "contour"
           }
          ],
          "contourcarpet": [
           {
            "colorbar": {
             "outlinewidth": 0,
             "ticks": ""
            },
            "type": "contourcarpet"
           }
          ],
          "heatmap": [
           {
            "colorbar": {
             "outlinewidth": 0,
             "ticks": ""
            },
            "colorscale": [
             [
              0,
              "#0d0887"
             ],
             [
              0.1111111111111111,
              "#46039f"
             ],
             [
              0.2222222222222222,
              "#7201a8"
             ],
             [
              0.3333333333333333,
              "#9c179e"
             ],
             [
              0.4444444444444444,
              "#bd3786"
             ],
             [
              0.5555555555555556,
              "#d8576b"
             ],
             [
              0.6666666666666666,
              "#ed7953"
             ],
             [
              0.7777777777777778,
              "#fb9f3a"
             ],
             [
              0.8888888888888888,
              "#fdca26"
             ],
             [
              1,
              "#f0f921"
             ]
            ],
            "type": "heatmap"
           }
          ],
          "heatmapgl": [
           {
            "colorbar": {
             "outlinewidth": 0,
             "ticks": ""
            },
            "colorscale": [
             [
              0,
              "#0d0887"
             ],
             [
              0.1111111111111111,
              "#46039f"
             ],
             [
              0.2222222222222222,
              "#7201a8"
             ],
             [
              0.3333333333333333,
              "#9c179e"
             ],
             [
              0.4444444444444444,
              "#bd3786"
             ],
             [
              0.5555555555555556,
              "#d8576b"
             ],
             [
              0.6666666666666666,
              "#ed7953"
             ],
             [
              0.7777777777777778,
              "#fb9f3a"
             ],
             [
              0.8888888888888888,
              "#fdca26"
             ],
             [
              1,
              "#f0f921"
             ]
            ],
            "type": "heatmapgl"
           }
          ],
          "histogram": [
           {
            "marker": {
             "pattern": {
              "fillmode": "overlay",
              "size": 10,
              "solidity": 0.2
             }
            },
            "type": "histogram"
           }
          ],
          "histogram2d": [
           {
            "colorbar": {
             "outlinewidth": 0,
             "ticks": ""
            },
            "colorscale": [
             [
              0,
              "#0d0887"
             ],
             [
              0.1111111111111111,
              "#46039f"
             ],
             [
              0.2222222222222222,
              "#7201a8"
             ],
             [
              0.3333333333333333,
              "#9c179e"
             ],
             [
              0.4444444444444444,
              "#bd3786"
             ],
             [
              0.5555555555555556,
              "#d8576b"
             ],
             [
              0.6666666666666666,
              "#ed7953"
             ],
             [
              0.7777777777777778,
              "#fb9f3a"
             ],
             [
              0.8888888888888888,
              "#fdca26"
             ],
             [
              1,
              "#f0f921"
             ]
            ],
            "type": "histogram2d"
           }
          ],
          "histogram2dcontour": [
           {
            "colorbar": {
             "outlinewidth": 0,
             "ticks": ""
            },
            "colorscale": [
             [
              0,
              "#0d0887"
             ],
             [
              0.1111111111111111,
              "#46039f"
             ],
             [
              0.2222222222222222,
              "#7201a8"
             ],
             [
              0.3333333333333333,
              "#9c179e"
             ],
             [
              0.4444444444444444,
              "#bd3786"
             ],
             [
              0.5555555555555556,
              "#d8576b"
             ],
             [
              0.6666666666666666,
              "#ed7953"
             ],
             [
              0.7777777777777778,
              "#fb9f3a"
             ],
             [
              0.8888888888888888,
              "#fdca26"
             ],
             [
              1,
              "#f0f921"
             ]
            ],
            "type": "histogram2dcontour"
           }
          ],
          "mesh3d": [
           {
            "colorbar": {
             "outlinewidth": 0,
             "ticks": ""
            },
            "type": "mesh3d"
           }
          ],
          "parcoords": [
           {
            "line": {
             "colorbar": {
              "outlinewidth": 0,
              "ticks": ""
             }
            },
            "type": "parcoords"
           }
          ],
          "pie": [
           {
            "automargin": true,
            "type": "pie"
           }
          ],
          "scatter": [
           {
            "marker": {
             "colorbar": {
              "outlinewidth": 0,
              "ticks": ""
             }
            },
            "type": "scatter"
           }
          ],
          "scatter3d": [
           {
            "line": {
             "colorbar": {
              "outlinewidth": 0,
              "ticks": ""
             }
            },
            "marker": {
             "colorbar": {
              "outlinewidth": 0,
              "ticks": ""
             }
            },
            "type": "scatter3d"
           }
          ],
          "scattercarpet": [
           {
            "marker": {
             "colorbar": {
              "outlinewidth": 0,
              "ticks": ""
             }
            },
            "type": "scattercarpet"
           }
          ],
          "scattergeo": [
           {
            "marker": {
             "colorbar": {
              "outlinewidth": 0,
              "ticks": ""
             }
            },
            "type": "scattergeo"
           }
          ],
          "scattergl": [
           {
            "marker": {
             "colorbar": {
              "outlinewidth": 0,
              "ticks": ""
             }
            },
            "type": "scattergl"
           }
          ],
          "scattermapbox": [
           {
            "marker": {
             "colorbar": {
              "outlinewidth": 0,
              "ticks": ""
             }
            },
            "type": "scattermapbox"
           }
          ],
          "scatterpolar": [
           {
            "marker": {
             "colorbar": {
              "outlinewidth": 0,
              "ticks": ""
             }
            },
            "type": "scatterpolar"
           }
          ],
          "scatterpolargl": [
           {
            "marker": {
             "colorbar": {
              "outlinewidth": 0,
              "ticks": ""
             }
            },
            "type": "scatterpolargl"
           }
          ],
          "scatterternary": [
           {
            "marker": {
             "colorbar": {
              "outlinewidth": 0,
              "ticks": ""
             }
            },
            "type": "scatterternary"
           }
          ],
          "surface": [
           {
            "colorbar": {
             "outlinewidth": 0,
             "ticks": ""
            },
            "colorscale": [
             [
              0,
              "#0d0887"
             ],
             [
              0.1111111111111111,
              "#46039f"
             ],
             [
              0.2222222222222222,
              "#7201a8"
             ],
             [
              0.3333333333333333,
              "#9c179e"
             ],
             [
              0.4444444444444444,
              "#bd3786"
             ],
             [
              0.5555555555555556,
              "#d8576b"
             ],
             [
              0.6666666666666666,
              "#ed7953"
             ],
             [
              0.7777777777777778,
              "#fb9f3a"
             ],
             [
              0.8888888888888888,
              "#fdca26"
             ],
             [
              1,
              "#f0f921"
             ]
            ],
            "type": "surface"
           }
          ],
          "table": [
           {
            "cells": {
             "fill": {
              "color": "#EBF0F8"
             },
             "line": {
              "color": "white"
             }
            },
            "header": {
             "fill": {
              "color": "#C8D4E3"
             },
             "line": {
              "color": "white"
             }
            },
            "type": "table"
           }
          ]
         },
         "layout": {
          "annotationdefaults": {
           "arrowcolor": "#2a3f5f",
           "arrowhead": 0,
           "arrowwidth": 1
          },
          "autotypenumbers": "strict",
          "coloraxis": {
           "colorbar": {
            "outlinewidth": 0,
            "ticks": ""
           }
          },
          "colorscale": {
           "diverging": [
            [
             0,
             "#8e0152"
            ],
            [
             0.1,
             "#c51b7d"
            ],
            [
             0.2,
             "#de77ae"
            ],
            [
             0.3,
             "#f1b6da"
            ],
            [
             0.4,
             "#fde0ef"
            ],
            [
             0.5,
             "#f7f7f7"
            ],
            [
             0.6,
             "#e6f5d0"
            ],
            [
             0.7,
             "#b8e186"
            ],
            [
             0.8,
             "#7fbc41"
            ],
            [
             0.9,
             "#4d9221"
            ],
            [
             1,
             "#276419"
            ]
           ],
           "sequential": [
            [
             0,
             "#0d0887"
            ],
            [
             0.1111111111111111,
             "#46039f"
            ],
            [
             0.2222222222222222,
             "#7201a8"
            ],
            [
             0.3333333333333333,
             "#9c179e"
            ],
            [
             0.4444444444444444,
             "#bd3786"
            ],
            [
             0.5555555555555556,
             "#d8576b"
            ],
            [
             0.6666666666666666,
             "#ed7953"
            ],
            [
             0.7777777777777778,
             "#fb9f3a"
            ],
            [
             0.8888888888888888,
             "#fdca26"
            ],
            [
             1,
             "#f0f921"
            ]
           ],
           "sequentialminus": [
            [
             0,
             "#0d0887"
            ],
            [
             0.1111111111111111,
             "#46039f"
            ],
            [
             0.2222222222222222,
             "#7201a8"
            ],
            [
             0.3333333333333333,
             "#9c179e"
            ],
            [
             0.4444444444444444,
             "#bd3786"
            ],
            [
             0.5555555555555556,
             "#d8576b"
            ],
            [
             0.6666666666666666,
             "#ed7953"
            ],
            [
             0.7777777777777778,
             "#fb9f3a"
            ],
            [
             0.8888888888888888,
             "#fdca26"
            ],
            [
             1,
             "#f0f921"
            ]
           ]
          },
          "colorway": [
           "#636efa",
           "#EF553B",
           "#00cc96",
           "#ab63fa",
           "#FFA15A",
           "#19d3f3",
           "#FF6692",
           "#B6E880",
           "#FF97FF",
           "#FECB52"
          ],
          "font": {
           "color": "#2a3f5f"
          },
          "geo": {
           "bgcolor": "white",
           "lakecolor": "white",
           "landcolor": "#E5ECF6",
           "showlakes": true,
           "showland": true,
           "subunitcolor": "white"
          },
          "hoverlabel": {
           "align": "left"
          },
          "hovermode": "closest",
          "mapbox": {
           "style": "light"
          },
          "paper_bgcolor": "white",
          "plot_bgcolor": "#E5ECF6",
          "polar": {
           "angularaxis": {
            "gridcolor": "white",
            "linecolor": "white",
            "ticks": ""
           },
           "bgcolor": "#E5ECF6",
           "radialaxis": {
            "gridcolor": "white",
            "linecolor": "white",
            "ticks": ""
           }
          },
          "scene": {
           "xaxis": {
            "backgroundcolor": "#E5ECF6",
            "gridcolor": "white",
            "gridwidth": 2,
            "linecolor": "white",
            "showbackground": true,
            "ticks": "",
            "zerolinecolor": "white"
           },
           "yaxis": {
            "backgroundcolor": "#E5ECF6",
            "gridcolor": "white",
            "gridwidth": 2,
            "linecolor": "white",
            "showbackground": true,
            "ticks": "",
            "zerolinecolor": "white"
           },
           "zaxis": {
            "backgroundcolor": "#E5ECF6",
            "gridcolor": "white",
            "gridwidth": 2,
            "linecolor": "white",
            "showbackground": true,
            "ticks": "",
            "zerolinecolor": "white"
           }
          },
          "shapedefaults": {
           "line": {
            "color": "#2a3f5f"
           }
          },
          "ternary": {
           "aaxis": {
            "gridcolor": "white",
            "linecolor": "white",
            "ticks": ""
           },
           "baxis": {
            "gridcolor": "white",
            "linecolor": "white",
            "ticks": ""
           },
           "bgcolor": "#E5ECF6",
           "caxis": {
            "gridcolor": "white",
            "linecolor": "white",
            "ticks": ""
           }
          },
          "title": {
           "x": 0.05
          },
          "xaxis": {
           "automargin": true,
           "gridcolor": "white",
           "linecolor": "white",
           "ticks": "",
           "title": {
            "standoff": 15
           },
           "zerolinecolor": "white",
           "zerolinewidth": 2
          },
          "yaxis": {
           "automargin": true,
           "gridcolor": "white",
           "linecolor": "white",
           "ticks": "",
           "title": {
            "standoff": 15
           },
           "zerolinecolor": "white",
           "zerolinewidth": 2
          }
         }
        },
        "title": {
         "text": "Emotions(text2emotion) in /r/Bitcoin (November 2021)"
        }
       }
      },
      "image/png": "[encoded data removed]",
      "text/html": [
       "<div>                            <div id=\"d89cad40-1b60-4f89-969d-4e0611bca2a6\" class=\"plotly-graph-div\" style=\"height:525px; width:100%;\"></div>            <script type=\"text/javascript\">                require([\"plotly\"], function(Plotly) {                    window.PLOTLYENV=window.PLOTLYENV || {};                                    if (document.getElementById(\"d89cad40-1b60-4f89-969d-4e0611bca2a6\")) {                    Plotly.newPlot(                        \"d89cad40-1b60-4f89-969d-4e0611bca2a6\",                        [{\"domain\":{\"x\":[0.0,1.0],\"y\":[0.0,1.0]},\"hovertemplate\":\"label=%{label}<br>value=%{value}<extra></extra>\",\"labels\":[\"Angry\",\"Fear\",\"Happy\",\"Sad\",\"Surpise\"],\"legendgroup\":\"\",\"name\":\"\",\"showlegend\":true,\"values\":[284.37,2801.9000000000005,785.2,1193.4,1425.89],\"type\":\"pie\"}],                        {\"template\":{\"data\":{\"bar\":[{\"error_x\":{\"color\":\"#2a3f5f\"},\"error_y\":{\"color\":\"#2a3f5f\"},\"marker\":{\"line\":{\"color\":\"#E5ECF6\",\"width\":0.5},\"pattern\":{\"fillmode\":\"overlay\",\"size\":10,\"solidity\":0.2}},\"type\":\"bar\"}],\"barpolar\":[{\"marker\":{\"line\":{\"color\":\"#E5ECF6\",\"width\":0.5},\"pattern\":{\"fillmode\":\"overlay\",\"size\":10,\"solidity\":0.2}},\"type\":\"barpolar\"}],\"carpet\":[{\"aaxis\":{\"endlinecolor\":\"#2a3f5f\",\"gridcolor\":\"white\",\"linecolor\":\"white\",\"minorgridcolor\":\"white\",\"startlinecolor\":\"#2a3f5f\"},\"baxis\":{\"endlinecolor\":\"#2a3f5f\",\"gridcolor\":\"white\",\"linecolor\":\"white\",\"minorgridcolor\":\"white\",\"startlinecolor\":\"#2a3f5f\"},\"type\":\"carpet\"}],\"choropleth\":[{\"colorbar\":{\"outlinewidth\":0,\"ticks\":\"\"},\"type\":\"choropleth\"}],\"contour\":[{\"colorbar\":{\"outlinewidth\":0,\"ticks\":\"\"},\"colorscale\":[[0.0,\"#0d0887\"],[0.1111111111111111,\"#46039f\"],[0.2222222222222222,\"#7201a8\"],[0.3333333333333333,\"#9c179e\"],[0.4444444444444444,\"#bd3786\"],[0.5555555555555556,\"#d8576b\"],[0.6666666666666666,\"#ed7953\"],[0.7777777777777778,\"#fb9f3a\"],[0.8888888888888888,\"#fdca26\"],[1.0,\"#f0f921\"]],\"type\":\"contour\"}],\"contourcarpet\":[{\"colorbar\":{\"outlinewidth\":0,\"ticks\":\"\"},\"type\":\"contourcarpet\"}],\"heatmap\":[{\"colorbar\":{\"outlinewidth\":0,\"ticks\":\"\"},\"colorscale\":[[0.0,\"#0d0887\"],[0.1111111111111111,\"#46039f\"],[0.2222222222222222,\"#7201a8\"],[0.3333333333333333,\"#9c179e\"],[0.4444444444444444,\"#bd3786\"],[0.5555555555555556,\"#d8576b\"],[0.6666666666666666,\"#ed7953\"],[0.7777777777777778,\"#fb9f3a\"],[0.8888888888888888,\"#fdca26\"],[1.0,\"#f0f921\"]],\"type\":\"heatmap\"}],\"heatmapgl\":[{\"colorbar\":{\"outlinewidth\":0,\"ticks\":\"\"},\"colorscale\":[[0.0,\"#0d0887\"],[0.1111111111111111,\"#46039f\"],[0.2222222222222222,\"#7201a8\"],[0.3333333333333333,\"#9c179e\"],[0.4444444444444444,\"#bd3786\"],[0.5555555555555556,\"#d8576b\"],[0.6666666666666666,\"#ed7953\"],[0.7777777777777778,\"#fb9f3a\"],[0.8888888888888888,\"#fdca26\"],[1.0,\"#f0f921\"]],\"type\":\"heatmapgl\"}],\"histogram\":[{\"marker\":{\"pattern\":{\"fillmode\":\"overlay\",\"size\":10,\"solidity\":0.2}},\"type\":\"histogram\"}],\"histogram2d\":[{\"colorbar\":{\"outlinewidth\":0,\"ticks\":\"\"},\"colorscale\":[[0.0,\"#0d0887\"],[0.1111111111111111,\"#46039f\"],[0.2222222222222222,\"#7201a8\"],[0.3333333333333333,\"#9c179e\"],[0.4444444444444444,\"#bd3786\"],[0.5555555555555556,\"#d8576b\"],[0.6666666666666666,\"#ed7953\"],[0.7777777777777778,\"#fb9f3a\"],[0.8888888888888888,\"#fdca26\"],[1.0,\"#f0f921\"]],\"type\":\"histogram2d\"}],\"histogram2dcontour\":[{\"colorbar\":{\"outlinewidth\":0,\"ticks\":\"\"},\"colorscale\":[[0.0,\"#0d0887\"],[0.1111111111111111,\"#46039f\"],[0.2222222222222222,\"#7201a8\"],[0.3333333333333333,\"#9c179e\"],[0.4444444444444444,\"#bd3786\"],[0.5555555555555556,\"#d8576b\"],[0.6666666666666666,\"#ed7953\"],[0.7777777777777778,\"#fb9f3a\"],[0.8888888888888888,\"#fdca26\"],[1.0,\"#f0f921\"]],\"type\":\"histogram2dcontour\"}],\"mesh3d\":[{\"colorbar\":{\"outlinewidth\":0,\"ticks\":\"\"},\"type\":\"mesh3d\"}],\"parcoords\":[{\"line\":{\"colorbar\":{\"outlinewidth\":0,\"ticks\":\"\"}},\"type\":\"parcoords\"}],\"pie\":[{\"automargin\":true,\"type\":\"pie\"}],\"scatter\":[{\"marker\":{\"colorbar\":{\"outlinewidth\":0,\"ticks\":\"\"}},\"type\":\"scatter\"}],\"scatter3d\":[{\"line\":{\"colorbar\":{\"outlinewidth\":0,\"ticks\":\"\"}},\"marker\":{\"colorbar\":{\"outlinewidth\":0,\"ticks\":\"\"}},\"type\":\"scatter3d\"}],\"scattercarpet\":[{\"marker\":{\"colorbar\":{\"outlinewidth\":0,\"ticks\":\"\"}},\"type\":\"scattercarpet\"}],\"scattergeo\":[{\"marker\":{\"colorbar\":{\"outlinewidth\":0,\"ticks\":\"\"}},\"type\":\"scattergeo\"}],\"scattergl\":[{\"marker\":{\"colorbar\":{\"outlinewidth\":0,\"ticks\":\"\"}},\"type\":\"scattergl\"}],\"scattermapbox\":[{\"marker\":{\"colorbar\":{\"outlinewidth\":0,\"ticks\":\"\"}},\"type\":\"scattermapbox\"}],\"scatterpolar\":[{\"marker\":{\"colorbar\":{\"outlinewidth\":0,\"ticks\":\"\"}},\"type\":\"scatterpolar\"}],\"scatterpolargl\":[{\"marker\":{\"colorbar\":{\"outlinewidth\":0,\"ticks\":\"\"}},\"type\":\"scatterpolargl\"}],\"scatterternary\":[{\"marker\":{\"colorbar\":{\"outlinewidth\":0,\"ticks\":\"\"}},\"type\":\"scatterternary\"}],\"surface\":[{\"colorbar\":{\"outlinewidth\":0,\"ticks\":\"\"},\"colorscale\":[[0.0,\"#0d0887\"],[0.1111111111111111,\"#46039f\"],[0.2222222222222222,\"#7201a8\"],[0.3333333333333333,\"#9c179e\"],[0.4444444444444444,\"#bd3786\"],[0.5555555555555556,\"#d8576b\"],[0.6666666666666666,\"#ed7953\"],[0.7777777777777778,\"#fb9f3a\"],[0.8888888888888888,\"#fdca26\"],[1.0,\"#f0f921\"]],\"type\":\"surface\"}],\"table\":[{\"cells\":{\"fill\":{\"color\":\"#EBF0F8\"},\"line\":{\"color\":\"white\"}},\"header\":{\"fill\":{\"color\":\"#C8D4E3\"},\"line\":{\"color\":\"white\"}},\"type\":\"table\"}]},\"layout\":{\"annotationdefaults\":{\"arrowcolor\":\"#2a3f5f\",\"arrowhead\":0,\"arrowwidth\":1},\"autotypenumbers\":\"strict\",\"coloraxis\":{\"colorbar\":{\"outlinewidth\":0,\"ticks\":\"\"}},\"colorscale\":{\"diverging\":[[0,\"#8e0152\"],[0.1,\"#c51b7d\"],[0.2,\"#de77ae\"],[0.3,\"#f1b6da\"],[0.4,\"#fde0ef\"],[0.5,\"#f7f7f7\"],[0.6,\"#e6f5d0\"],[0.7,\"#b8e186\"],[0.8,\"#7fbc41\"],[0.9,\"#4d9221\"],[1,\"#276419\"]],\"sequential\":[[0.0,\"#0d0887\"],[0.1111111111111111,\"#46039f\"],[0.2222222222222222,\"#7201a8\"],[0.3333333333333333,\"#9c179e\"],[0.4444444444444444,\"#bd3786\"],[0.5555555555555556,\"#d8576b\"],[0.6666666666666666,\"#ed7953\"],[0.7777777777777778,\"#fb9f3a\"],[0.8888888888888888,\"#fdca26\"],[1.0,\"#f0f921\"]],\"sequentialminus\":[[0.0,\"#0d0887\"],[0.1111111111111111,\"#46039f\"],[0.2222222222222222,\"#7201a8\"],[0.3333333333333333,\"#9c179e\"],[0.4444444444444444,\"#bd3786\"],[0.5555555555555556,\"#d8576b\"],[0.6666666666666666,\"#ed7953\"],[0.7777777777777778,\"#fb9f3a\"],[0.8888888888888888,\"#fdca26\"],[1.0,\"#f0f921\"]]},\"colorway\":[\"#636efa\",\"#EF553B\",\"#00cc96\",\"#ab63fa\",\"#FFA15A\",\"#19d3f3\",\"#FF6692\",\"#B6E880\",\"#FF97FF\",\"#FECB52\"],\"font\":{\"color\":\"#2a3f5f\"},\"geo\":{\"bgcolor\":\"white\",\"lakecolor\":\"white\",\"landcolor\":\"#E5ECF6\",\"showlakes\":true,\"showland\":true,\"subunitcolor\":\"white\"},\"hoverlabel\":{\"align\":\"left\"},\"hovermode\":\"closest\",\"mapbox\":{\"style\":\"light\"},\"paper_bgcolor\":\"white\",\"plot_bgcolor\":\"#E5ECF6\",\"polar\":{\"angularaxis\":{\"gridcolor\":\"white\",\"linecolor\":\"white\",\"ticks\":\"\"},\"bgcolor\":\"#E5ECF6\",\"radialaxis\":{\"gridcolor\":\"white\",\"linecolor\":\"white\",\"ticks\":\"\"}},\"scene\":{\"xaxis\":{\"backgroundcolor\":\"#E5ECF6\",\"gridcolor\":\"white\",\"gridwidth\":2,\"linecolor\":\"white\",\"showbackground\":true,\"ticks\":\"\",\"zerolinecolor\":\"white\"},\"yaxis\":{\"backgroundcolor\":\"#E5ECF6\",\"gridcolor\":\"white\",\"gridwidth\":2,\"linecolor\":\"white\",\"showbackground\":true,\"ticks\":\"\",\"zerolinecolor\":\"white\"},\"zaxis\":{\"backgroundcolor\":\"#E5ECF6\",\"gridcolor\":\"white\",\"gridwidth\":2,\"linecolor\":\"white\",\"showbackground\":true,\"ticks\":\"\",\"zerolinecolor\":\"white\"}},\"shapedefaults\":{\"line\":{\"color\":\"#2a3f5f\"}},\"ternary\":{\"aaxis\":{\"gridcolor\":\"white\",\"linecolor\":\"white\",\"ticks\":\"\"},\"baxis\":{\"gridcolor\":\"white\",\"linecolor\":\"white\",\"ticks\":\"\"},\"bgcolor\":\"#E5ECF6\",\"caxis\":{\"gridcolor\":\"white\",\"linecolor\":\"white\",\"ticks\":\"\"}},\"title\":{\"x\":0.05},\"xaxis\":{\"automargin\":true,\"gridcolor\":\"white\",\"linecolor\":\"white\",\"ticks\":\"\",\"title\":{\"standoff\":15},\"zerolinecolor\":\"white\",\"zerolinewidth\":2},\"yaxis\":{\"automargin\":true,\"gridcolor\":\"white\",\"linecolor\":\"white\",\"ticks\":\"\",\"title\":{\"standoff\":15},\"zerolinecolor\":\"white\",\"zerolinewidth\":2}}},\"legend\":{\"tracegroupgap\":0},\"title\":{\"text\":\"Emotions(text2emotion) in /r/Bitcoin (November 2021)\"},\"piecolorway\":[\"rgb(103,0,31)\",\"rgb(178,24,43)\",\"rgb(214,96,77)\",\"rgb(244,165,130)\",\"rgb(253,219,199)\",\"rgb(247,247,247)\",\"rgb(209,229,240)\",\"rgb(146,197,222)\",\"rgb(67,147,195)\",\"rgb(33,102,172)\",\"rgb(5,48,97)\"]},                        {\"responsive\": true}                    ).then(function(){\n",
       "                            \n",
       "var gd = document.getElementById('d89cad40-1b60-4f89-969d-4e0611bca2a6');\n",
       "var x = new MutationObserver(function (mutations, observer) {{\n",
       "        var display = window.getComputedStyle(gd).display;\n",
       "        if (!display || display === 'none') {{\n",
       "            console.log([gd, 'removed!']);\n",
       "            Plotly.purge(gd);\n",
       "            observer.disconnect();\n",
       "        }}\n",
       "}});\n",
       "\n",
       "// Listen for the removal of the full notebook cells\n",
       "var notebookContainer = gd.closest('#notebook-container');\n",
       "if (notebookContainer) {{\n",
       "    x.observe(notebookContainer, {childList: true});\n",
       "}}\n",
       "\n",
       "// Listen for the clearing of the current output cell\n",
       "var outputEl = gd.closest('.output');\n",
       "if (outputEl) {{\n",
       "    x.observe(outputEl, {childList: true});\n",
       "}}\n",
       "\n",
       "                        })                };                });            </script>        </div>"
      ]
     },
     "metadata": {},
     "output_type": "display_data"
    }
   ],
   "source": [
    "fig.show()"
   ]
  },
  {
   "cell_type": "code",
   "execution_count": null,
   "id": "fa583cdc-b477-49b3-89a2-af72b833b22b",
   "metadata": {},
   "outputs": [],
   "source": []
  }
 ],
 "metadata": {
  "kernelspec": {
   "display_name": "Python 3 (ipykernel)",
   "language": "python",
   "name": "python3"
  },
  "language_info": {
   "codemirror_mode": {
    "name": "ipython",
    "version": 3
   },
   "file_extension": ".py",
   "mimetype": "text/x-python",
   "name": "python",
   "nbconvert_exporter": "python",
   "pygments_lexer": "ipython3",
   "version": "3.8.8"
  }
 },
 "nbformat": 4,
 "nbformat_minor": 5
}
